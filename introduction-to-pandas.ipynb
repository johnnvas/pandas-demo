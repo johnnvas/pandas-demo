{
 "cells": [
  {
   "cell_type": "code",
   "execution_count": 1,
   "id": "0fdba179",
   "metadata": {},
   "outputs": [],
   "source": [
    "import pandas as pd \n"
   ]
  },
  {
   "cell_type": "code",
   "execution_count": 2,
   "id": "61c38957",
   "metadata": {},
   "outputs": [],
   "source": [
    "#two main data types\n",
    "series = pd.Series([\"BMW\", \"Mercedes\", \"Toyota\"])"
   ]
  },
  {
   "cell_type": "code",
   "execution_count": 3,
   "id": "37ee7bdc",
   "metadata": {},
   "outputs": [
    {
     "data": {
      "text/plain": [
       "0         BMW\n",
       "1    Mercedes\n",
       "2      Toyota\n",
       "dtype: object"
      ]
     },
     "execution_count": 3,
     "metadata": {},
     "output_type": "execute_result"
    }
   ],
   "source": [
    "series"
   ]
  },
  {
   "cell_type": "code",
   "execution_count": 4,
   "id": "2e354bb1",
   "metadata": {},
   "outputs": [],
   "source": [
    "#series are ONE DIMENSIONAL "
   ]
  },
  {
   "cell_type": "code",
   "execution_count": 5,
   "id": "8f5deb28",
   "metadata": {},
   "outputs": [
    {
     "data": {
      "text/plain": [
       "0      Red\n",
       "1    Black\n",
       "2    White\n",
       "dtype: object"
      ]
     },
     "execution_count": 5,
     "metadata": {},
     "output_type": "execute_result"
    }
   ],
   "source": [
    "colors = pd.Series([\"Red\", \"Black\", \"White\"])\n",
    "colors\n"
   ]
  },
  {
   "cell_type": "code",
   "execution_count": 6,
   "id": "3a9aceb2",
   "metadata": {},
   "outputs": [],
   "source": [
    "#dataframe is TWO dimensional - far more common\n",
    "car_data = pd.DataFrame({\"Car make\" : series, \"Colors\" : colors})"
   ]
  },
  {
   "cell_type": "code",
   "execution_count": 7,
   "id": "5b04276a",
   "metadata": {},
   "outputs": [
    {
     "data": {
      "text/html": [
       "<div>\n",
       "<style scoped>\n",
       "    .dataframe tbody tr th:only-of-type {\n",
       "        vertical-align: middle;\n",
       "    }\n",
       "\n",
       "    .dataframe tbody tr th {\n",
       "        vertical-align: top;\n",
       "    }\n",
       "\n",
       "    .dataframe thead th {\n",
       "        text-align: right;\n",
       "    }\n",
       "</style>\n",
       "<table border=\"1\" class=\"dataframe\">\n",
       "  <thead>\n",
       "    <tr style=\"text-align: right;\">\n",
       "      <th></th>\n",
       "      <th>Car make</th>\n",
       "      <th>Colors</th>\n",
       "    </tr>\n",
       "  </thead>\n",
       "  <tbody>\n",
       "    <tr>\n",
       "      <th>0</th>\n",
       "      <td>BMW</td>\n",
       "      <td>Red</td>\n",
       "    </tr>\n",
       "    <tr>\n",
       "      <th>1</th>\n",
       "      <td>Mercedes</td>\n",
       "      <td>Black</td>\n",
       "    </tr>\n",
       "    <tr>\n",
       "      <th>2</th>\n",
       "      <td>Toyota</td>\n",
       "      <td>White</td>\n",
       "    </tr>\n",
       "  </tbody>\n",
       "</table>\n",
       "</div>"
      ],
      "text/plain": [
       "   Car make Colors\n",
       "0       BMW    Red\n",
       "1  Mercedes  Black\n",
       "2    Toyota  White"
      ]
     },
     "execution_count": 7,
     "metadata": {},
     "output_type": "execute_result"
    }
   ],
   "source": [
    "car_data\n"
   ]
  },
  {
   "cell_type": "code",
   "execution_count": 8,
   "id": "9e3aaa8f",
   "metadata": {},
   "outputs": [],
   "source": [
    "#import data \n"
   ]
  },
  {
   "cell_type": "code",
   "execution_count": 9,
   "id": "ff69567f",
   "metadata": {},
   "outputs": [
    {
     "data": {
      "text/plain": [
       "2"
      ]
     },
     "execution_count": 9,
     "metadata": {},
     "output_type": "execute_result"
    }
   ],
   "source": [
    "1+1"
   ]
  },
  {
   "cell_type": "code",
   "execution_count": null,
   "id": "6060b240",
   "metadata": {},
   "outputs": [],
   "source": []
  }
 ],
 "metadata": {
  "kernelspec": {
   "display_name": "Python 3 (ipykernel)",
   "language": "python",
   "name": "python3"
  },
  "language_info": {
   "codemirror_mode": {
    "name": "ipython",
    "version": 3
   },
   "file_extension": ".py",
   "mimetype": "text/x-python",
   "name": "python",
   "nbconvert_exporter": "python",
   "pygments_lexer": "ipython3",
   "version": "3.11.4"
  }
 },
 "nbformat": 4,
 "nbformat_minor": 5
}
